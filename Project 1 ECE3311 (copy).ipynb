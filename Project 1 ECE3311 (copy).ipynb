{
 "cells": [
  {
   "cell_type": "code",
   "execution_count": 1,
   "metadata": {},
   "outputs": [],
   "source": [
    "import numpy as np\n",
    "import matplotlib.pyplot as plt"
   ]
  },
  {
   "cell_type": "code",
   "execution_count": 2,
   "metadata": {},
   "outputs": [
    {
     "output_type": "stream",
     "name": "stdout",
     "text": [
      "[0 0 0 0 0 0 0 1 1 1 1 1 0 0 0 0 0 0 0]\n"
     ]
    }
   ],
   "source": [
    "#Question 6: Write a code snippet that concatenates three NumPy arrays, where the first array is equal to seven 0 values, the second array is equal to five 1 values and the third array is equal to seven 0 values.\n",
    "\n",
    "#Creating the arrays\n",
    "arr1 = np.array([0, 0, 0, 0, 0, 0, 0]) #first array of seven 0s\n",
    "arr2 = np.array([1, 1, 1, 1, 1]) #second array of five 1s\n",
    "arr3 = np.array([0, 0, 0, 0, 0, 0, 0]) #third array of seven 0s\n",
    "\n",
    "#Concatenating the three Numpy arrays \n",
    "print(np.concatenate((arr1, arr2, arr3), axis=0)) #row-wise concatenation"
   ]
  },
  {
   "cell_type": "code",
   "execution_count": 3,
   "metadata": {},
   "outputs": [
    {
     "output_type": "stream",
     "name": "stdout",
     "text": [
      "[0. 0. 0. 0. 0. 0. 0. 0. 0. 0. 0. 0. 0. 0. 1. 2. 3. 4. 5. 4. 3. 2. 1. 0.\n 0. 0. 0. 0. 0. 0. 0. 0. 0. 0. 0. 0. 0.]\n"
     ]
    }
   ],
   "source": [
    "#Question 7: using the result from question 6, convolve the result array with itself using the definiton of convolution. \n",
    "\n",
    "#Function that computes linear convolution of two signals. In this case the array from question 6 is convolved with itself.\n",
    "def direct_conv(f,g):\n",
    "    N1 = len(f)\n",
    "    N2 = len(g)\n",
    "    N = N1 + N2 - 1\n",
    "    \n",
    "    #place holder for the output\n",
    "    y = np.zeros(N)\n",
    "    \n",
    "    m = N-N1\n",
    "    n = N-N2    \n",
    "    #Padding zeros to x and h to make their length to N\n",
    "    f =np.pad(f,(0,m),'constant')\n",
    "    g =np.pad(g,(0,n),'constant')\n",
    "\n",
    "    #Linear convolution using convolution sum formula\n",
    "    for n in range (N):\n",
    "        for k in range (N):\n",
    "            if n >= k:\n",
    "                 y[n] = y[n]+f[n-k]*g[k]\n",
    "                    \n",
    "    return y\n",
    "#output array from question 6\n",
    "output_arr = np.array([0, 0, 0, 0, 0, 0, 0, 1, 1, 1, 1, 1, 0, 0, 0, 0, 0, 0, 0]) \n",
    "\n",
    "#calling direct_conv to perform the convolution\n",
    "conv_out = direct_conv(output_arr, output_arr)\n",
    "print(conv_out)"
   ]
  },
  {
   "cell_type": "code",
   "execution_count": 4,
   "metadata": {},
   "outputs": [
    {
     "output_type": "stream",
     "name": "stdout",
     "text": [
      "[0 0 0 0 0 0 0 0 0 0 0 0 0 0 1 2 3 4 5 4 3 2 1 0 0 0 0 0 0 0 0 0 0 0 0 0 0]\n"
     ]
    }
   ],
   "source": [
    "#Question 8: Repeat question 7 but use the SciPy's signal.convolve function\n",
    "\n",
    "#Using Scipy conv function for convolving 2 signals\n",
    "from scipy import signal\n",
    "\n",
    "scipy_conv_out = signal.convolve(output_arr, output_arr, mode='full') \n",
    "print(scipy_conv_out)"
   ]
  },
  {
   "cell_type": "code",
   "execution_count": null,
   "metadata": {},
   "outputs": [],
   "source": []
  }
 ],
 "metadata": {
  "kernelspec": {
   "display_name": "Python 3",
   "language": "python",
   "name": "python3"
  },
  "language_info": {
   "codemirror_mode": {
    "name": "ipython",
    "version": 3
   },
   "file_extension": ".py",
   "mimetype": "text/x-python",
   "name": "python",
   "nbconvert_exporter": "python",
   "pygments_lexer": "ipython3",
   "version": "3.8.5-final"
  }
 },
 "nbformat": 4,
 "nbformat_minor": 4
}